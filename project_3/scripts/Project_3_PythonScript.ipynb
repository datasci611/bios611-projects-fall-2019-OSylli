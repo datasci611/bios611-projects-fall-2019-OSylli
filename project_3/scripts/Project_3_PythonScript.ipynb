{
 "cells": [
  {
   "cell_type": "code",
   "execution_count": 1,
   "metadata": {},
   "outputs": [
    {
     "data": {
      "text/html": [
       "<div>\n",
       "<style scoped>\n",
       "    .dataframe tbody tr th:only-of-type {\n",
       "        vertical-align: middle;\n",
       "    }\n",
       "\n",
       "    .dataframe tbody tr th {\n",
       "        vertical-align: top;\n",
       "    }\n",
       "\n",
       "    .dataframe thead th {\n",
       "        text-align: right;\n",
       "    }\n",
       "</style>\n",
       "<table border=\"1\" class=\"dataframe\">\n",
       "  <thead>\n",
       "    <tr style=\"text-align: right;\">\n",
       "      <th></th>\n",
       "      <th>Client ID</th>\n",
       "      <th>Client Gender</th>\n",
       "      <th>Client Primary Race</th>\n",
       "    </tr>\n",
       "  </thead>\n",
       "  <tbody>\n",
       "    <tr>\n",
       "      <th>0</th>\n",
       "      <td>397941</td>\n",
       "      <td>Female</td>\n",
       "      <td>White (HUD)</td>\n",
       "    </tr>\n",
       "    <tr>\n",
       "      <th>1</th>\n",
       "      <td>130335</td>\n",
       "      <td>Female</td>\n",
       "      <td>Black or African American (HUD)</td>\n",
       "    </tr>\n",
       "    <tr>\n",
       "      <th>2</th>\n",
       "      <td>188933</td>\n",
       "      <td>Female</td>\n",
       "      <td>Black or African American (HUD)</td>\n",
       "    </tr>\n",
       "    <tr>\n",
       "      <th>3</th>\n",
       "      <td>168290</td>\n",
       "      <td>Male</td>\n",
       "      <td>White (HUD)</td>\n",
       "    </tr>\n",
       "    <tr>\n",
       "      <th>4</th>\n",
       "      <td>123122</td>\n",
       "      <td>Male</td>\n",
       "      <td>White (HUD)</td>\n",
       "    </tr>\n",
       "  </tbody>\n",
       "</table>\n",
       "</div>"
      ],
      "text/plain": [
       "   Client ID Client Gender              Client Primary Race\n",
       "0     397941        Female                      White (HUD)\n",
       "1     130335        Female  Black or African American (HUD)\n",
       "2     188933        Female  Black or African American (HUD)\n",
       "3     168290          Male                      White (HUD)\n",
       "4     123122          Male                      White (HUD)"
      ]
     },
     "execution_count": 1,
     "metadata": {},
     "output_type": "execute_result"
    }
   ],
   "source": [
    "# Question 2: The relationship between duration of stay at UMD and clients' gender and race\n",
    "# Data read in\n",
    "import pandas as pd\n",
    "client = pd.read_csv('https://raw.githubusercontent.com/datasci611/bios611-projects-fall-2019-OSylli/master/project_3/data/CLIENT_191102.tsv',sep='\\t')\n",
    "client = client.loc[:,['Client ID', 'Client Gender', 'Client Primary Race']]\n",
    "client.head()"
   ]
  },
  {
   "cell_type": "code",
   "execution_count": 2,
   "metadata": {},
   "outputs": [
    {
     "data": {
      "text/html": [
       "<div>\n",
       "<style scoped>\n",
       "    .dataframe tbody tr th:only-of-type {\n",
       "        vertical-align: middle;\n",
       "    }\n",
       "\n",
       "    .dataframe tbody tr th {\n",
       "        vertical-align: top;\n",
       "    }\n",
       "\n",
       "    .dataframe thead th {\n",
       "        text-align: right;\n",
       "    }\n",
       "</style>\n",
       "<table border=\"1\" class=\"dataframe\">\n",
       "  <thead>\n",
       "    <tr style=\"text-align: right;\">\n",
       "      <th></th>\n",
       "      <th>Client ID</th>\n",
       "      <th>Entry Date</th>\n",
       "      <th>Exit Date</th>\n",
       "    </tr>\n",
       "  </thead>\n",
       "  <tbody>\n",
       "    <tr>\n",
       "      <th>0</th>\n",
       "      <td>397941</td>\n",
       "      <td>8/15/2015</td>\n",
       "      <td>7/11/2016</td>\n",
       "    </tr>\n",
       "    <tr>\n",
       "      <th>1</th>\n",
       "      <td>130335</td>\n",
       "      <td>8/15/2015</td>\n",
       "      <td>8/31/2015</td>\n",
       "    </tr>\n",
       "    <tr>\n",
       "      <th>2</th>\n",
       "      <td>188933</td>\n",
       "      <td>8/15/2015</td>\n",
       "      <td>9/19/2015</td>\n",
       "    </tr>\n",
       "    <tr>\n",
       "      <th>3</th>\n",
       "      <td>168290</td>\n",
       "      <td>8/15/2015</td>\n",
       "      <td>3/7/2016</td>\n",
       "    </tr>\n",
       "    <tr>\n",
       "      <th>4</th>\n",
       "      <td>123122</td>\n",
       "      <td>8/15/2015</td>\n",
       "      <td>8/24/2015</td>\n",
       "    </tr>\n",
       "  </tbody>\n",
       "</table>\n",
       "</div>"
      ],
      "text/plain": [
       "   Client ID Entry Date  Exit Date\n",
       "0     397941  8/15/2015  7/11/2016\n",
       "1     130335  8/15/2015  8/31/2015\n",
       "2     188933  8/15/2015  9/19/2015\n",
       "3     168290  8/15/2015   3/7/2016\n",
       "4     123122  8/15/2015  8/24/2015"
      ]
     },
     "execution_count": 2,
     "metadata": {},
     "output_type": "execute_result"
    }
   ],
   "source": [
    "# Data read in\n",
    "import pandas as pd\n",
    "entry_exit = pd.read_csv('https://raw.githubusercontent.com/datasci611/bios611-projects-fall-2019-OSylli/master/project_3/data/ENTRY_EXIT_191102.tsv',sep='\\t')\n",
    "entry_exit = entry_exit.loc[:,['Client ID', 'Entry Date', 'Exit Date']]\n",
    "entry_exit.head()"
   ]
  },
  {
   "cell_type": "code",
   "execution_count": 3,
   "metadata": {},
   "outputs": [
    {
     "data": {
      "text/html": [
       "<div>\n",
       "<style scoped>\n",
       "    .dataframe tbody tr th:only-of-type {\n",
       "        vertical-align: middle;\n",
       "    }\n",
       "\n",
       "    .dataframe tbody tr th {\n",
       "        vertical-align: top;\n",
       "    }\n",
       "\n",
       "    .dataframe thead th {\n",
       "        text-align: right;\n",
       "    }\n",
       "</style>\n",
       "<table border=\"1\" class=\"dataframe\">\n",
       "  <thead>\n",
       "    <tr style=\"text-align: right;\">\n",
       "      <th></th>\n",
       "      <th>Client ID</th>\n",
       "      <th>Client Gender</th>\n",
       "      <th>Client Primary Race</th>\n",
       "      <th>Client ID</th>\n",
       "      <th>Entry Date</th>\n",
       "      <th>Exit Date</th>\n",
       "      <th>Duration (Days)</th>\n",
       "    </tr>\n",
       "  </thead>\n",
       "  <tbody>\n",
       "    <tr>\n",
       "      <th>0</th>\n",
       "      <td>397941</td>\n",
       "      <td>Female</td>\n",
       "      <td>White (HUD)</td>\n",
       "      <td>397941</td>\n",
       "      <td>2015-08-15</td>\n",
       "      <td>2016-07-11</td>\n",
       "      <td>331.0</td>\n",
       "    </tr>\n",
       "    <tr>\n",
       "      <th>1</th>\n",
       "      <td>130335</td>\n",
       "      <td>Female</td>\n",
       "      <td>Black or African American (HUD)</td>\n",
       "      <td>130335</td>\n",
       "      <td>2015-08-15</td>\n",
       "      <td>2015-08-31</td>\n",
       "      <td>16.0</td>\n",
       "    </tr>\n",
       "    <tr>\n",
       "      <th>2</th>\n",
       "      <td>188933</td>\n",
       "      <td>Female</td>\n",
       "      <td>Black or African American (HUD)</td>\n",
       "      <td>188933</td>\n",
       "      <td>2015-08-15</td>\n",
       "      <td>2015-09-19</td>\n",
       "      <td>35.0</td>\n",
       "    </tr>\n",
       "    <tr>\n",
       "      <th>3</th>\n",
       "      <td>168290</td>\n",
       "      <td>Male</td>\n",
       "      <td>White (HUD)</td>\n",
       "      <td>168290</td>\n",
       "      <td>2015-08-15</td>\n",
       "      <td>2016-03-07</td>\n",
       "      <td>205.0</td>\n",
       "    </tr>\n",
       "    <tr>\n",
       "      <th>4</th>\n",
       "      <td>123122</td>\n",
       "      <td>Male</td>\n",
       "      <td>White (HUD)</td>\n",
       "      <td>123122</td>\n",
       "      <td>2015-08-15</td>\n",
       "      <td>2015-08-24</td>\n",
       "      <td>9.0</td>\n",
       "    </tr>\n",
       "  </tbody>\n",
       "</table>\n",
       "</div>"
      ],
      "text/plain": [
       "   Client ID Client Gender              Client Primary Race  Client ID  \\\n",
       "0     397941        Female                      White (HUD)     397941   \n",
       "1     130335        Female  Black or African American (HUD)     130335   \n",
       "2     188933        Female  Black or African American (HUD)     188933   \n",
       "3     168290          Male                      White (HUD)     168290   \n",
       "4     123122          Male                      White (HUD)     123122   \n",
       "\n",
       "  Entry Date  Exit Date  Duration (Days)  \n",
       "0 2015-08-15 2016-07-11            331.0  \n",
       "1 2015-08-15 2015-08-31             16.0  \n",
       "2 2015-08-15 2015-09-19             35.0  \n",
       "3 2015-08-15 2016-03-07            205.0  \n",
       "4 2015-08-15 2015-08-24              9.0  "
      ]
     },
     "execution_count": 3,
     "metadata": {},
     "output_type": "execute_result"
    }
   ],
   "source": [
    "# Load necessary packages\n",
    "import pandas as pd\n",
    "\n",
    "# Since the column \"Client ID\" are matched in the two datasets, we directly combine them together\n",
    "record=pd.concat([client, entry_exit],axis=1)\n",
    "\n",
    "# Change the format of date record and calculate the duration of stay at UMD of each item\n",
    "record['Entry Date'] = pd.to_datetime(record['Entry Date'],format='%m/%d/%Y')\n",
    "record['Exit Date'] = pd.to_datetime(record['Exit Date'],format='%m/%d/%Y')\n",
    "record['Duration (Days)'] = record['Exit Date']-record['Entry Date']\n",
    "record['Duration (Days)'] = record['Duration (Days)'].map(lambda x: x.days)\n",
    "\n",
    "# Drop imcomplete record\n",
    "record = record.dropna(axis = 0, how ='any')\n",
    "\n",
    "# Output\n",
    "record.head()"
   ]
  },
  {
   "cell_type": "code",
   "execution_count": 4,
   "metadata": {},
   "outputs": [
    {
     "data": {
      "text/html": [
       "<div>\n",
       "<style scoped>\n",
       "    .dataframe tbody tr th:only-of-type {\n",
       "        vertical-align: middle;\n",
       "    }\n",
       "\n",
       "    .dataframe tbody tr th {\n",
       "        vertical-align: top;\n",
       "    }\n",
       "\n",
       "    .dataframe thead th {\n",
       "        text-align: right;\n",
       "    }\n",
       "</style>\n",
       "<table border=\"1\" class=\"dataframe\">\n",
       "  <thead>\n",
       "    <tr style=\"text-align: right;\">\n",
       "      <th></th>\n",
       "      <th>Gender</th>\n",
       "      <th>Count</th>\n",
       "      <th>AVE_duration</th>\n",
       "    </tr>\n",
       "  </thead>\n",
       "  <tbody>\n",
       "    <tr>\n",
       "      <th>0</th>\n",
       "      <td>Female</td>\n",
       "      <td>1260</td>\n",
       "      <td>43.593651</td>\n",
       "    </tr>\n",
       "    <tr>\n",
       "      <th>1</th>\n",
       "      <td>Male</td>\n",
       "      <td>3912</td>\n",
       "      <td>38.355317</td>\n",
       "    </tr>\n",
       "    <tr>\n",
       "      <th>2</th>\n",
       "      <td>Trans Female (MTF or Male to Female)</td>\n",
       "      <td>17</td>\n",
       "      <td>31.764706</td>\n",
       "    </tr>\n",
       "  </tbody>\n",
       "</table>\n",
       "</div>"
      ],
      "text/plain": [
       "                                 Gender  Count  AVE_duration\n",
       "0                                Female   1260     43.593651\n",
       "1                                  Male   3912     38.355317\n",
       "2  Trans Female (MTF or Male to Female)     17     31.764706"
      ]
     },
     "execution_count": 4,
     "metadata": {},
     "output_type": "execute_result"
    }
   ],
   "source": [
    "# Question 2 Part 1: Relationship between the duration of stay at UMD and Client Gender\n",
    "gender_record = {'Gender':[], 'Count':[], 'AVE_duration':[]}\n",
    "\n",
    "# Data wrangling to calculate the number and average time of stay at UMD for different gender\n",
    "for value, sub_df in record.groupby('Client Gender'):\n",
    "    tmp_ave = sub_df['Duration (Days)'].mean()\n",
    "    gender_record['Gender'].append(value)\n",
    "    gender_record['Count'].append(sub_df['Duration (Days)'].count())\n",
    "    gender_record['AVE_duration'].append(tmp_ave)\n",
    "    \n",
    "# Change the dictionary in to a dataframe and print it out\n",
    "gender_record = pd.DataFrame(gender_record)\n",
    "gender_record"
   ]
  },
  {
   "cell_type": "code",
   "execution_count": 12,
   "metadata": {},
   "outputs": [
    {
     "data": {
      "image/png": "[encoded data removed]",
      "text/plain": [
       "<Figure size 432x288 with 1 Axes>"
      ]
     },
     "metadata": {
      "needs_background": "light"
     },
     "output_type": "display_data"
    }
   ],
   "source": [
    "# Load necessary packages for visualization\n",
    "import matplotlib.pyplot as plt\n",
    "from matplotlib.pyplot import savefig\n",
    "\n",
    "# Generate a barplot to show relationship between the total number of entry and client gender\n",
    "plt.bar(gender_record['Gender'],gender_record['Count'])\n",
    "plt.title('Relationship between the total number of entry and client gender')\n",
    "savefig(\"Q2_Relationship_between_the_total_number_of_entry_and_client_gender.png\", bbox_inches = 'tight')"
   ]
  },
  {
   "cell_type": "code",
   "execution_count": 13,
   "metadata": {},
   "outputs": [
    {
     "data": {
      "image/png": "[encoded data removed]",
      "text/plain": [
       "<Figure size 432x288 with 1 Axes>"
      ]
     },
     "metadata": {
      "needs_background": "light"
     },
     "output_type": "display_data"
    }
   ],
   "source": [
    "# Load necessary packages for visualization\n",
    "import matplotlib.pyplot as plt\n",
    "from matplotlib.pyplot import savefig\n",
    "\n",
    "# Generate a barplot to show the relationship between the average time of stay at UMD and client gender\n",
    "plt.bar(gender_record['Gender'],gender_record['AVE_duration'])\n",
    "plt.title('Relationship between the average time of stay at UMD and client gender')\n",
    "savefig(\"Q2_Relationship_between_the_average_time_of_stay_at_UMD_and_client_gender.png\", bbox_inches = 'tight')"
   ]
  },
  {
   "cell_type": "code",
   "execution_count": 9,
   "metadata": {},
   "outputs": [
    {
     "data": {
      "text/html": [
       "<div>\n",
       "<style scoped>\n",
       "    .dataframe tbody tr th:only-of-type {\n",
       "        vertical-align: middle;\n",
       "    }\n",
       "\n",
       "    .dataframe tbody tr th {\n",
       "        vertical-align: top;\n",
       "    }\n",
       "\n",
       "    .dataframe thead th {\n",
       "        text-align: right;\n",
       "    }\n",
       "</style>\n",
       "<table border=\"1\" class=\"dataframe\">\n",
       "  <thead>\n",
       "    <tr style=\"text-align: right;\">\n",
       "      <th></th>\n",
       "      <th>Race</th>\n",
       "      <th>Count</th>\n",
       "      <th>AVE_duration</th>\n",
       "      <th>Number</th>\n",
       "    </tr>\n",
       "  </thead>\n",
       "  <tbody>\n",
       "    <tr>\n",
       "      <th>0</th>\n",
       "      <td>American Indian or Alaska Native (HUD)</td>\n",
       "      <td>84</td>\n",
       "      <td>41.321429</td>\n",
       "      <td>0</td>\n",
       "    </tr>\n",
       "    <tr>\n",
       "      <th>1</th>\n",
       "      <td>Asian (HUD)</td>\n",
       "      <td>3</td>\n",
       "      <td>57.333333</td>\n",
       "      <td>1</td>\n",
       "    </tr>\n",
       "    <tr>\n",
       "      <th>2</th>\n",
       "      <td>Black or African American (HUD)</td>\n",
       "      <td>3797</td>\n",
       "      <td>40.363972</td>\n",
       "      <td>2</td>\n",
       "    </tr>\n",
       "    <tr>\n",
       "      <th>6</th>\n",
       "      <td>Native Hawaiian or Other Pacific Islander (HUD)</td>\n",
       "      <td>10</td>\n",
       "      <td>28.100000</td>\n",
       "      <td>6</td>\n",
       "    </tr>\n",
       "    <tr>\n",
       "      <th>7</th>\n",
       "      <td>White (HUD)</td>\n",
       "      <td>1281</td>\n",
       "      <td>37.185792</td>\n",
       "      <td>7</td>\n",
       "    </tr>\n",
       "  </tbody>\n",
       "</table>\n",
       "</div>"
      ],
      "text/plain": [
       "                                              Race  Count  AVE_duration  \\\n",
       "0           American Indian or Alaska Native (HUD)     84     41.321429   \n",
       "1                                      Asian (HUD)      3     57.333333   \n",
       "2                  Black or African American (HUD)   3797     40.363972   \n",
       "6  Native Hawaiian or Other Pacific Islander (HUD)     10     28.100000   \n",
       "7                                      White (HUD)   1281     37.185792   \n",
       "\n",
       "   Number  \n",
       "0       0  \n",
       "1       1  \n",
       "2       2  \n",
       "6       6  \n",
       "7       7  "
      ]
     },
     "execution_count": 9,
     "metadata": {},
     "output_type": "execute_result"
    }
   ],
   "source": [
    "# Part 2: Relationship between the duration of stay at UMD and Client Race\n",
    "race_record = {'Race':[], 'Count':[], 'AVE_duration':[], 'Number':[]}\n",
    "\n",
    "# Data wrangling\n",
    "for value, sub_df in record.groupby('Client Primary Race'):\n",
    "    tmp_ave = sub_df['Duration (Days)'].mean()\n",
    "    race_record['Race'].append(value)\n",
    "    race_record['Count'].append(sub_df['Duration (Days)'].count())\n",
    "    race_record['AVE_duration'].append(tmp_ave)\n",
    "    \n",
    "# Drop unnecessary summarized statistics    \n",
    "race_record[\"Number\"] = [0,1,2,3,4,5,6,7]\n",
    "race_record = pd.DataFrame(race_record)\n",
    "race_record = race_record.drop(5,axis=0) # drop the row in which \"Data not collected\" is recorded\n",
    "race_record = race_record.drop(4,axis=0) # drop the row in which \"Client refused\" is recorded\n",
    "race_record = race_record.drop(3,axis=0) # drop the row in which \"Client doesn't know\" is recorded\n",
    "\n",
    "# Output\n",
    "race_record"
   ]
  },
  {
   "cell_type": "code",
   "execution_count": 10,
   "metadata": {},
   "outputs": [
    {
     "data": {
      "image/png": "[encoded data removed]",
      "text/plain": [
       "<Figure size 432x288 with 1 Axes>"
      ]
     },
     "metadata": {
      "needs_background": "light"
     },
     "output_type": "display_data"
    }
   ],
   "source": [
    "# Load necessary Packages\n",
    "import matplotlib.pyplot as plt\n",
    "from matplotlib.pyplot import savefig\n",
    "\n",
    "# Visualization with a barplot, shwoing the relationship between the total number of entry and client race\n",
    "LABELS = [\"American Indian or Alaska Native\",\"Asian\",\"Black or African American\",\"Native Hawaiian or Other Pacific Islander\",\"White\"]\n",
    "\n",
    "plt.bar(race_record['Number'],race_record['Count'])\n",
    "plt.title('Relationship between the total number of entry and clients\\' race')\n",
    "plt.xticks(race_record['Number'],LABELS,rotation=90)\n",
    "\n",
    "savefig(\"Q2_Relationship_between_the_total_number_of_entry_and_clients_race.png\", bbox_inches = 'tight')"
   ]
  },
  {
   "cell_type": "code",
   "execution_count": 11,
   "metadata": {},
   "outputs": [
    {
     "data": {
      "image/png": "[encoded data removed]",
      "text/plain": [
       "<Figure size 432x288 with 1 Axes>"
      ]
     },
     "metadata": {
      "needs_background": "light"
     },
     "output_type": "display_data"
    }
   ],
   "source": [
    "# Load necessary packages\n",
    "import matplotlib.pyplot as plt\n",
    "from matplotlib.pyplot import savefig\n",
    "\n",
    "# Visualization with a barplot, showing the relationship between the average time of stay at UMD and client race\n",
    "LABELS = [\"American Indian or Alaska Native\",\"Asian\",\"Black or African American\",\"Native Hawaiian or Other Pacific Islander\",\"White\"]\n",
    "\n",
    "\n",
    "plt.bar(race_record['Number'],race_record['AVE_duration'])\n",
    "plt.title('Relationship between the average time of stay at UMD and clients\\' race')\n",
    "plt.xticks(race_record['Number'],LABELS,rotation=90)\n",
    "\n",
    "savefig(\"Q2_Relationship_between_the_average_time_of_stay_at_UMD_and_clients_race.png\", bbox_inches = 'tight')"
   ]
  },
  {
   "cell_type": "code",
   "execution_count": null,
   "metadata": {},
   "outputs": [],
   "source": []
  }
 ],
 "metadata": {
  "kernelspec": {
   "display_name": "Python 3",
   "language": "python",
   "name": "python3"
  },
  "language_info": {
   "codemirror_mode": {
    "name": "ipython",
    "version": 3
   },
   "file_extension": ".py",
   "mimetype": "text/x-python",
   "name": "python",
   "nbconvert_exporter": "python",
   "pygments_lexer": "ipython3",
   "version": "3.7.0"
  }
 },
 "nbformat": 4,
 "nbformat_minor": 2
}
